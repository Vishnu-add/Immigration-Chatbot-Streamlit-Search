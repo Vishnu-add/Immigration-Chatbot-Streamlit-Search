{
 "cells": [
  {
   "cell_type": "markdown",
   "metadata": {},
   "source": [
    "### Step 1: Process the data and create the Sentence Transformer model."
   ]
  },
  {
   "cell_type": "code",
   "execution_count": 9,
   "metadata": {},
   "outputs": [],
   "source": [
    "import os\n",
    "import json\n",
    "import pandas as pd\n",
    "import numpy as np"
   ]
  },
  {
   "cell_type": "markdown",
   "metadata": {},
   "source": [
    "### Import data and prepare it for model"
   ]
  },
  {
   "cell_type": "code",
   "execution_count": null,
   "metadata": {},
   "outputs": [],
   "source": [
    "def load_jsons_to_dataframe(folder_path):\n",
    "    data = []\n",
    "    unique_id = 0\n",
    "    \n",
    "    # Iterate through the folder containing the JSON files\n",
    "    for filename in os.listdir(folder_path):\n",
    "        if filename.endswith(\".json\"):\n",
    "            filepath = os.path.join(folder_path, filename)\n",
    "            \n",
    "            # Open each JSON file and read the data\n",
    "            with open(filepath, 'r') as file:\n",
    "                json_content = json.load(file)\n",
    "                json_content['unique_id'] = unique_id\n",
    "                data.append(json_content)\n",
    "                unique_id += 1\n",
    "\n",
    "    # Convert the list of JSON objects to a Pandas DataFrame\n",
    "    df = pd.DataFrame(data)\n",
    "    \n",
    "    return df\n",
    "\n",
    "folder_path = './datasets/output_rabee_gheni/' # Replace this with the path to your folder\n",
    "df = load_jsons_to_dataframe(folder_path)\n",
    "#print(df)\n"
   ]
  },
  {
   "cell_type": "code",
   "execution_count": 14,
   "metadata": {},
   "outputs": [],
   "source": [
    "file_name = './datasets/output_rabee_gheni/dataset.csv'\n",
    "df.to_csv(file_name, index=False)"
   ]
  },
  {
   "cell_type": "code",
   "execution_count": 5,
   "metadata": {},
   "outputs": [
    {
     "data": {
      "text/plain": [
       "Index(['Title', 'Source', 'Content', 'DateOfScrapping', 'unique_id'], dtype='object')"
      ]
     },
     "execution_count": 5,
     "metadata": {},
     "output_type": "execute_result"
    }
   ],
   "source": [
    "df.columns"
   ]
  },
  {
   "cell_type": "code",
   "execution_count": 6,
   "metadata": {},
   "outputs": [],
   "source": [
    "text_features = ['Title', 'Source', 'Content', 'DateOfScrapping', 'unique_id']\n",
    "df['metadata'] = df[text_features].apply(lambda x: ' '.join(x.dropna().astype(str)), axis=1)\n"
   ]
  },
  {
   "cell_type": "markdown",
   "metadata": {},
   "source": [
    "### Model"
   ]
  },
  {
   "cell_type": "code",
   "execution_count": 7,
   "metadata": {},
   "outputs": [
    {
     "name": "stderr",
     "output_type": "stream",
     "text": [
      "c:\\Python310\\lib\\site-packages\\bitsandbytes\\cextension.py:34: UserWarning: The installed version of bitsandbytes was compiled without GPU support. 8-bit optimizers, 8-bit multiplication, and GPU quantization are unavailable.\n",
      "  warn(\"The installed version of bitsandbytes was compiled without GPU support. \"\n"
     ]
    },
    {
     "name": "stdout",
     "output_type": "stream",
     "text": [
      "'NoneType' object has no attribute 'cadam32bit_grad_fp32'\n"
     ]
    }
   ],
   "source": [
    "# SentenceTransformers is a Python framework for state-of-the-art sentence, text, and image embeddings.\n",
    "# The all-MiniLM-L6-v2 model maps sentences & paragraphs to a 384-dimensional dense vector space\n",
    "# More sentence-transforming models can be found at: https://huggingface.co/sentence-transformers\n",
    "\n",
    "from sentence_transformers import SentenceTransformer\n",
    "\n",
    "model = SentenceTransformer('all-MiniLM-L6-v2')"
   ]
  },
  {
   "cell_type": "code",
   "execution_count": 8,
   "metadata": {},
   "outputs": [],
   "source": [
    "# get embeddings\n",
    "sentence_embeddings = model.encode(df['metadata'].tolist())"
   ]
  },
  {
   "cell_type": "code",
   "execution_count": 10,
   "metadata": {},
   "outputs": [],
   "source": [
    "np.save(\"embeddings_matrix_v1\", sentence_embeddings)"
   ]
  },
  {
   "cell_type": "markdown",
   "metadata": {},
   "source": [
    "### Cosine similarities"
   ]
  },
  {
   "cell_type": "code",
   "execution_count": 11,
   "metadata": {},
   "outputs": [],
   "source": [
    "final_matrix = np.load(\"embeddings_matrix_v1.npy\")"
   ]
  },
  {
   "cell_type": "code",
   "execution_count": 12,
   "metadata": {},
   "outputs": [],
   "source": [
    "from sklearn.metrics.pairwise import cosine_similarity\n",
    "\n",
    "chunk = 10000 # This can be modified as per needs. Rigth now it is not necessary but as the library grows, this may become usefull.\n",
    "steps = int(final_matrix.shape[0] / chunk)+1\n",
    "top_k = 10 # This can be updated as needed.\n",
    "similarity_top_k = np.empty((final_matrix.shape[0],top_k), dtype=\"uint32\")\n",
    "\n",
    "for i in range(steps):\n",
    "    if ((i+1)*chunk) > final_matrix.shape[0]:\n",
    "        upper_bound = final_matrix.shape[0]\n",
    "    else:\n",
    "        upper_bound = (i+1)*chunk\n",
    "\n",
    "    similarity_matrix = cosine_similarity(final_matrix[i*chunk:upper_bound], final_matrix)\n",
    "\n",
    "    for j in range(similarity_matrix.shape[0]):\n",
    "        similarity_top_k[i*chunk+j] = np.argsort(similarity_matrix[j])[::-1][:top_k]"
   ]
  },
  {
   "cell_type": "code",
   "execution_count": 13,
   "metadata": {},
   "outputs": [],
   "source": [
    "np.save(\"embeddings_matrix_v1_similarities_top_k\", similarity_top_k)"
   ]
  },
  {
   "cell_type": "code",
   "execution_count": null,
   "metadata": {},
   "outputs": [],
   "source": []
  }
 ],
 "metadata": {
  "kernelspec": {
   "display_name": "Python 3",
   "language": "python",
   "name": "python3"
  },
  "language_info": {
   "codemirror_mode": {
    "name": "ipython",
    "version": 3
   },
   "file_extension": ".py",
   "mimetype": "text/x-python",
   "name": "python",
   "nbconvert_exporter": "python",
   "pygments_lexer": "ipython3",
   "version": "3.10.10"
  },
  "orig_nbformat": 4
 },
 "nbformat": 4,
 "nbformat_minor": 2
}
